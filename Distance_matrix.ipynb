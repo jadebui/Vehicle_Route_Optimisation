{
  "nbformat": 4,
  "nbformat_minor": 0,
  "metadata": {
    "accelerator": "GPU",
    "colab": {
      "name": "Distance_matrix.ipynb",
      "provenance": [],
      "collapsed_sections": [
        "Wiq8rtDvYrcA",
        "3JKVlOLYYrcc"
      ]
    },
    "kernelspec": {
      "display_name": "Python 3",
      "language": "python",
      "name": "python3"
    },
    "language_info": {
      "codemirror_mode": {
        "name": "ipython",
        "version": 3
      },
      "file_extension": ".py",
      "mimetype": "text/x-python",
      "name": "python",
      "nbconvert_exporter": "python",
      "pygments_lexer": "ipython3",
      "version": "3.7.4"
    }
  },
  "cells": [
    {
      "cell_type": "markdown",
      "metadata": {
        "colab_type": "text",
        "id": "Wiq8rtDvYrcA"
      },
      "source": [
        "## 1. TSP problem"
      ]
    },
    {
      "cell_type": "markdown",
      "metadata": {
        "colab_type": "text",
        "id": "EIK3ozN7Yrcp"
      },
      "source": [
        "## 3.Vehicle Routing problem"
      ]
    },
    {
      "cell_type": "code",
      "metadata": {
        "id": "Cttt8x_KMdyc",
        "colab_type": "code",
        "outputId": "8fe94ab0-2f22-4b97-b298-b6df2458c6d9",
        "colab": {
          "base_uri": "https://localhost:8080/",
          "height": 148
        }
      },
      "source": [
        "!pip install ortools"
      ],
      "execution_count": 0,
      "outputs": [
        {
          "output_type": "stream",
          "text": [
            "Collecting ortools\n",
            "\u001b[?25l  Downloading https://files.pythonhosted.org/packages/b2/c2/81a18b1ee4e9c8401fa2c9bc6fcd1b59b1c30ff7a1b214aff84d718d95c5/ortools-7.4.7247-cp36-cp36m-manylinux1_x86_64.whl (27.7MB)\n",
            "\u001b[K     |████████████████████████████████| 27.7MB 110kB/s \n",
            "\u001b[?25hRequirement already satisfied: protobuf>=3.10.0 in /usr/local/lib/python3.6/dist-packages (from ortools) (3.10.0)\n",
            "Requirement already satisfied: six>=1.10 in /usr/local/lib/python3.6/dist-packages (from ortools) (1.12.0)\n",
            "Requirement already satisfied: setuptools in /usr/local/lib/python3.6/dist-packages (from protobuf>=3.10.0->ortools) (42.0.2)\n",
            "Installing collected packages: ortools\n",
            "Successfully installed ortools-7.4.7247\n"
          ],
          "name": "stdout"
        }
      ]
    },
    {
      "cell_type": "code",
      "metadata": {
        "colab_type": "code",
        "id": "XvPzbY3lYrcq",
        "colab": {}
      },
      "source": [
        "\"\"\"Vehicles Routing Problem (VRP).\"\"\"\n",
        "\n",
        "from __future__ import print_function\n",
        "from ortools.constraint_solver import routing_enums_pb2\n",
        "from ortools.constraint_solver import pywrapcp\n",
        "import matplotlib.pyplot as plt\n"
      ],
      "execution_count": 0,
      "outputs": []
    },
    {
      "cell_type": "code",
      "metadata": {
        "colab_type": "code",
        "id": "L3LCXhb4Yrcs",
        "outputId": "e1368232-48d9-44d8-9b38-c11682af43d5",
        "colab": {
          "base_uri": "https://localhost:8080/",
          "height": 115
        }
      },
      "source": [
        "def create_data_model():\n",
        "    \"\"\"Stores the data for the problem.\"\"\"\n",
        "    data = {}\n",
        "    data['distance_matrix'] = [\n",
        "        [\n",
        "            0, 548, 776, 696, 582, 274, 502, 194, 308, 194, 536, 502, 388, 354,\n",
        "            468, 776, 662\n",
        "        ],\n",
        "        [\n",
        "            548, 0, 684, 308, 194, 502, 730, 354, 696, 742, 1084, 594, 480, 674,\n",
        "            1016, 868, 1210\n",
        "        ],\n",
        "        [\n",
        "            776, 684, 0, 992, 878, 502, 274, 810, 468, 742, 400, 1278, 1164,\n",
        "            1130, 788, 1552, 754\n",
        "        ],\n",
        "        [\n",
        "            696, 308, 992, 0, 114, 650, 878, 502, 844, 890, 1232, 514, 628, 822,\n",
        "            1164, 560, 1358\n",
        "        ],\n",
        "        [\n",
        "            582, 194, 878, 114, 0, 536, 764, 388, 730, 776, 1118, 400, 514, 708,\n",
        "            1050, 674, 1244\n",
        "        ],\n",
        "        [\n",
        "            274, 502, 502, 650, 536, 0, 228, 308, 194, 240, 582, 776, 662, 628,\n",
        "            514, 1050, 708\n",
        "        ],\n",
        "        [\n",
        "            502, 730, 274, 878, 764, 228, 0, 536, 194, 468, 354, 1004, 890, 856,\n",
        "            514, 1278, 480\n",
        "        ],\n",
        "        [\n",
        "            194, 354, 810, 502, 388, 308, 536, 0, 342, 388, 730, 468, 354, 320,\n",
        "            662, 742, 856\n",
        "        ],\n",
        "        [\n",
        "            308, 696, 468, 844, 730, 194, 194, 342, 0, 274, 388, 810, 696, 662,\n",
        "            320, 1084, 514\n",
        "        ],\n",
        "        [\n",
        "            194, 742, 742, 890, 776, 240, 468, 388, 274, 0, 342, 536, 422, 388,\n",
        "            274, 810, 468\n",
        "        ],\n",
        "        [\n",
        "            536, 1084, 400, 1232, 1118, 582, 354, 730, 388, 342, 0, 878, 764,\n",
        "            730, 388, 1152, 354\n",
        "        ],\n",
        "        [\n",
        "            502, 594, 1278, 514, 400, 776, 1004, 468, 810, 536, 878, 0, 114,\n",
        "            308, 650, 274, 844\n",
        "        ],\n",
        "        [\n",
        "            388, 480, 1164, 628, 514, 662, 890, 354, 696, 422, 764, 114, 0, 194,\n",
        "            536, 388, 730\n",
        "        ],\n",
        "        [\n",
        "            354, 674, 1130, 822, 708, 628, 856, 320, 662, 388, 730, 308, 194, 0,\n",
        "            342, 422, 536\n",
        "        ],\n",
        "        [\n",
        "            468, 1016, 788, 1164, 1050, 514, 514, 662, 320, 274, 388, 650, 536,\n",
        "            342, 0, 764, 194\n",
        "        ],\n",
        "        [\n",
        "            776, 868, 1552, 560, 674, 1050, 1278, 742, 1084, 810, 1152, 274,\n",
        "            388, 422, 764, 0, 798\n",
        "        ],\n",
        "        [\n",
        "            662, 1210, 754, 1358, 1244, 708, 480, 856, 514, 468, 354, 844, 730,\n",
        "            536, 194, 798, 0\n",
        "        ],\n",
        "    ]\n",
        "    data['num_vehicles'] = 9\n",
        "    #data['depot'] = 0\n",
        "    data['demands'] = [0, 1, 1, 2, 4, 2, 5 , 8, 8, 1, 2, 1, 2, 4, 4, 8, 0]\n",
        "\n",
        "    data['vehicle_capacities'] = [14, 12, 16, 12, 15, 20,12,14,20]\n",
        "    data['min_capacity'] = [int(0.85*data['vehicle_capacities'][i]) for i in range(data['num_vehicles'])]\n",
        "    data['starts'] = [0]*data['num_vehicles']\n",
        "    data['ends'] = [16]*data['num_vehicles']\n",
        "    return data\n",
        "\n",
        "data = create_data_model()\n",
        "print(\"nodes\",len(data['distance_matrix']))\n",
        "print(\"demands: must be equal to nodes\",len(data['demands']))\n",
        "data['vehicle_capacities']\n",
        "\n",
        "print(data['min_capacity'])\n",
        "print(data['starts'])\n",
        "print(data['ends'])\n",
        "if len(data['vehicle_capacities']) == data['num_vehicles']:\n",
        "    print(\"bus np. == length of bus capacitites\", data['num_vehicles'])"
      ],
      "execution_count": 0,
      "outputs": [
        {
          "output_type": "stream",
          "text": [
            "nodes 17\n",
            "demands: must be equal to nodes 17\n",
            "[11, 10, 13, 10, 12, 17, 10, 11, 17]\n",
            "[0, 0, 0, 0, 0, 0, 0, 0, 0]\n",
            "[16, 16, 16, 16, 16, 16, 16, 16, 16]\n",
            "bus np. == length of bus capacitites 9\n"
          ],
          "name": "stdout"
        }
      ]
    },
    {
      "cell_type": "code",
      "metadata": {
        "colab_type": "code",
        "id": "NZX0Vna7H4Fs",
        "outputId": "351633f6-4e71-401b-b399-9be170b2d9ad",
        "colab": {
          "base_uri": "https://localhost:8080/",
          "height": 33
        }
      },
      "source": [
        "import numpy as np\n",
        "np.sum(data['demands'])"
      ],
      "execution_count": 0,
      "outputs": [
        {
          "output_type": "execute_result",
          "data": {
            "text/plain": [
              "53"
            ]
          },
          "metadata": {
            "tags": []
          },
          "execution_count": 4
        }
      ]
    },
    {
      "cell_type": "code",
      "metadata": {
        "colab_type": "code",
        "id": "rTurF1_5Yrcv",
        "colab": {}
      },
      "source": [
        "\n",
        "def print_solution(data, manager, routing, assignment):\n",
        "    \"\"\"Prints assignment on console.\"\"\"\n",
        "    print(\"objective cost: \", assignment.ObjectiveValue())\n",
        "    print()\n",
        "    plot_values = []\n",
        "    \n",
        "    total_distance = 0\n",
        "    total_load = 0\n",
        "    \n",
        "    for vehicle_id in range(data['num_vehicles']):\n",
        "        each_vehicle = []\n",
        "        index = routing.Start(vehicle_id)\n",
        "        plan_output = 'Route for vehicle {0} with minimum capacity {1}:\\n'.format(vehicle_id,data['min_capacity'][vehicle_id])\n",
        "        route_distance = 0\n",
        "        route_load = 0\n",
        "        \n",
        "        while not routing.IsEnd(index):\n",
        "            node_index = manager.IndexToNode(index)\n",
        "            each_vehicle.append(node_index)\n",
        "            route_load += data['demands'][node_index]\n",
        "            plan_output += ' {0} (Load({1})) -> '.format(node_index, route_load)\n",
        "            previous_index = index\n",
        "            index = assignment.Value(routing.NextVar(index))\n",
        "            \n",
        "            route_distance += routing.GetArcCostForVehicle(previous_index, index, vehicle_id)\n",
        "            \n",
        "        plan_output += ' {0} Load({1})\\n'.format(manager.IndexToNode(index),route_load)\n",
        "        \n",
        "        plan_output += 'Distance of the route: {}m\\n'.format(route_distance)\n",
        "        \n",
        "        plan_output += 'Load of the route: {}\\n'.format(route_load)\n",
        "    \n",
        "        if route_load != 0 and route_distance != 0:\n",
        "            each_vehicle.append(manager.IndexToNode(index))\n",
        "            print(plan_output)\n",
        "            print('\\n'+\"*\"*30)\n",
        "        \n",
        "        total_distance += route_distance\n",
        "        total_load += route_load\n",
        "        plot_values.append(each_vehicle)\n",
        "        \n",
        "        \n",
        "    print('Total distance of all routes: {}m'.format(total_distance))\n",
        "    print('Total load of all routes: {}'.format(total_load))\n",
        "    return plot_values\n",
        "    \n",
        "            \n",
        "        "
      ],
      "execution_count": 0,
      "outputs": []
    },
    {
      "cell_type": "markdown",
      "metadata": {
        "id": "aCnFuAeRMYt_",
        "colab_type": "text"
      },
      "source": [
        "## cost functions\n",
        "\n",
        " - SetAmortizedCostFactorsOfAllVehicles\n",
        "     - v: INDICATOR(v used in the model) * [linear_cost_factor_of_vehicle_[v] - quadratic_cost_factor_of_vehicle_[v]*(square of length of route v)]\n",
        "     \n",
        " - global_span_cost = coefficient * (Max(dimension_end_value) - Min(dimension start value))  "
      ]
    },
    {
      "cell_type": "code",
      "metadata": {
        "id": "mehp79WGMYuA",
        "colab_type": "code",
        "outputId": "2d2078fb-2870-4a2b-e67f-21f7fae8f827",
        "colab": {
          "base_uri": "https://localhost:8080/",
          "height": 444
        }
      },
      "source": [
        "def main():\n",
        "    \n",
        "    data = create_data_model()\n",
        "\n",
        "    manager = pywrapcp.RoutingIndexManager(len(data['distance_matrix']),data['num_vehicles'], data['starts'], data['ends'])\n",
        "\n",
        "    routing = pywrapcp.RoutingModel(manager)\n",
        "\n",
        "    routing.SetAmortizedCostFactorsOfAllVehicles(linear_cost_factor= 10*6, quadratic_cost_factor=1)\n",
        "    \n",
        "    \n",
        "    ###################### Dimension 1: Distance           #####################################\n",
        "    \n",
        "    def distance_callback(from_index, to_index):\n",
        "        \n",
        "        from_node = manager.IndexToNode(from_index)\n",
        "        to_node = manager.IndexToNode(to_index)\n",
        "        return data['distance_matrix'][from_node][to_node]\n",
        "\n",
        "    transit_callback_index = routing.RegisterTransitCallback(distance_callback)\n",
        "    \n",
        "    routing.SetArcCostEvaluatorOfAllVehicles(transit_callback_index)\n",
        "    \n",
        "    dimension_name = 'Distance'\n",
        "    routing.AddDimension(transit_callback_index,0, 3000, True, dimension_name)\n",
        "    distance_dimension = routing.GetDimensionOrDie(dimension_name)\n",
        "    distance_dimension.SetGlobalSpanCostCoefficient(7)\n",
        "    \n",
        "    \n",
        "    ####################          Dimension 2: Capacity          ####################################\n",
        "    capacity_dim = 'capacity'\n",
        "    def demand_callback(from_index):\n",
        "        from_node = manager.IndexToNode(from_index)\n",
        "        return data['demands'][from_node]\n",
        "\n",
        "    demand_callback_index = routing.RegisterUnaryTransitCallback(demand_callback)\n",
        "    \n",
        "    routing.AddDimensionWithVehicleCapacity(demand_callback_index,0, data['vehicle_capacities'], True,capacity_dim)\n",
        "    \n",
        "             #######     min capactity\n",
        "    capacity_dimension = routing.GetDimensionOrDie(capacity_dim)\n",
        "    minimum_allowed_capacity = data['min_capacity']\n",
        "    for vehicle in range(data['num_vehicles']):\n",
        "        capacity_dimension.CumulVar(routing.End(vehicle)).RemoveInterval(1, minimum_allowed_capacity[vehicle])\n",
        "    \n",
        "    #########################################################################################################\n",
        "    \n",
        "    #for vehicle in range(data['num_vehicles']):\n",
        "     #   routing.ConsiderEmptyRouteCostsForVehicle(True,vehicle)\n",
        "    # Setting first solution heuristic.\n",
        "    search_parameters = pywrapcp.DefaultRoutingSearchParameters()\n",
        "    search_parameters.first_solution_strategy = (routing_enums_pb2.FirstSolutionStrategy.LOCAL_CHEAPEST_ARC)\n",
        "\n",
        "    # Solve the problem.\n",
        "    solution = routing.SolveWithParameters(search_parameters)\n",
        "    #print(solution)\n",
        "    # Print solution on console.\n",
        "    if solution:\n",
        "        plot_values = print_solution(data, manager, routing, solution)\n",
        "    print(plot_values)\n",
        "    return plot_values, routing, search_parameters\n",
        "\n",
        "\n",
        "plot_values, routing, search_parameters = main()"
      ],
      "execution_count": 0,
      "outputs": [
        {
          "output_type": "stream",
          "text": [
            "objective cost:  21697\n",
            "\n",
            "Route for vehicle 0 with minimum capacity 11:\n",
            " 0 (Load(0)) ->  5 (Load(2)) ->  9 (Load(3)) ->  12 (Load(5)) ->  11 (Load(6)) ->  15 (Load(14)) ->  16 Load(14)\n",
            "Distance of the route: 2122m\n",
            "Load of the route: 14\n",
            "\n",
            "\n",
            "******************************\n",
            "Route for vehicle 5 with minimum capacity 17:\n",
            " 0 (Load(0)) ->  8 (Load(8)) ->  6 (Load(13)) ->  2 (Load(14)) ->  10 (Load(16)) ->  14 (Load(20)) ->  16 Load(20)\n",
            "Distance of the route: 1758m\n",
            "Load of the route: 20\n",
            "\n",
            "\n",
            "******************************\n",
            "Route for vehicle 8 with minimum capacity 17:\n",
            " 0 (Load(0)) ->  1 (Load(1)) ->  3 (Load(3)) ->  4 (Load(7)) ->  7 (Load(15)) ->  13 (Load(19)) ->  16 Load(19)\n",
            "Distance of the route: 2214m\n",
            "Load of the route: 19\n",
            "\n",
            "\n",
            "******************************\n",
            "Total distance of all routes: 6094m\n",
            "Total load of all routes: 53\n",
            "[[0, 5, 9, 12, 11, 15, 16], [0], [0], [0], [0], [0, 8, 6, 2, 10, 14, 16], [0], [0], [0, 1, 3, 4, 7, 13, 16]]\n"
          ],
          "name": "stdout"
        }
      ]
    },
    {
      "cell_type": "code",
      "metadata": {
        "colab_type": "code",
        "id": "zP9Cj8qNJJ0M",
        "outputId": "b2586416-62db-4c5a-c467-fdac6a01f4b6",
        "colab": {
          "base_uri": "https://localhost:8080/",
          "height": 656
        }
      },
      "source": [
        "import time\n",
        "def plot(plot_values):\n",
        "    plt.figure(figsize= [20,10])\n",
        "    plt.title(\" plot of different route take by buses\")\n",
        "    nodes = len(plot_values)\n",
        "    \n",
        "    \n",
        "    for i in range(nodes):\n",
        "        if len(plot_values[i]) != 1:\n",
        "            bus_i_route = plot_values[i].copy()\n",
        "            \n",
        "            start = bus_i_route[0]\n",
        "            end = bus_i_route[-1]\n",
        "             \n",
        "            bus_i_route.insert(0,start) #pad with first word before\n",
        "            bus_i_route.insert(-1,end)     #pad with end point after\n",
        "            print(bus_i_route)\n",
        "            plt.plot(bus_i_route[:-1],bus_i_route[1:])\n",
        "            for a,b in zip(bus_i_route[:-1], bus_i_route[1:]): \n",
        "                plt.text(a, b, str(b), fontsize=15)\n",
        "    plt.show()\n",
        "\n",
        "plot(plot_values)"
      ],
      "execution_count": 0,
      "outputs": [
        {
          "output_type": "stream",
          "text": [
            "[0, 0, 5, 9, 12, 11, 15, 16, 16]\n",
            "[0, 0, 8, 6, 2, 10, 14, 16, 16]\n",
            "[0, 0, 1, 3, 4, 7, 13, 16, 16]\n"
          ],
          "name": "stdout"
        },
        {
          "output_type": "display_data",
          "data": {
            "image/png": "[encoded data removed]",
            "text/plain": [
              "<Figure size 1440x720 with 1 Axes>"
            ]
          },
          "metadata": {
            "tags": []
          }
        }
      ]
    }
  ]
}